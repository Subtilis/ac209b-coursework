{
 "cells": [
  {
   "cell_type": "markdown",
   "metadata": {},
   "source": [
    "# Milestone 1 - CS109B Project Group 29\n",
    "**\"Predicting Movie Genres\"**<br>\n",
    "**CS109B (Spring 2017) Final Project Group 29**<br>\n",
    "Calvin J Chiew, Tim Hagmann, Ji Hua<br>\n",
    "TF: Alyssa Wilson<br>"
   ]
  },
  {
   "cell_type": "code",
<<<<<<< Updated upstream
   "execution_count": 1,
=======
   "execution_count": 9,
>>>>>>> Stashed changes
   "metadata": {
    "collapsed": false
   },
   "outputs": [],
   "source": [
    "import json\n",
    "import numpy as np\n",
    "import pandas as pd\n",
    "import matplotlib\n",
    "import matplotlib.pyplot as plt\n",
    "%matplotlib inline\n",
    "import random\n",
    "from bs4 import BeautifulSoup\n",
    "import urllib\n",
    "from urllib import urlopen\n",
    "import threading\n",
    "from threading import Timer\n",
    "from time import time, sleep\n",
    "import io\n",
    "import seaborn as sns"
   ]
  },
  {
   "cell_type": "markdown",
   "metadata": {},
   "source": [
    "In this project, we want to predict movie genres using movie posters and other movie metadata. The two sources of data are TMDb and IMDb, which will be accessed using the TMDb API and IMDbPY package respectively."
   ]
  },
  {
   "cell_type": "markdown",
   "metadata": {},
   "source": [
    "## Our Favorite Movie"
   ]
  },
  {
   "cell_type": "markdown",
   "metadata": {},
   "source": [
    "Our favorite movie is \"The Shawshank Redemption\". Using the TMDb API, we obtain this movie's genre and poster path, which we link to below."
   ]
  },
  {
   "cell_type": "code",
   "execution_count": 10,
   "metadata": {
    "collapsed": false
   },
   "outputs": [
    {
     "data": {
      "text/plain": [
       "u'\\t/9O7gLzmreU0nGkIB6K3BsJbzvNv.jpg,,Drama,Crime'"
      ]
     },
     "execution_count": 10,
     "metadata": {},
     "output_type": "execute_result"
    }
   ],
   "source": [
    "def get_movie(movie_id):\n",
    "    url_string=\"https://api.themoviedb.org/3/movie/\"+str(movie_id)+\"?api_key=1cc37144dc84322526d9b17191ff00bb&language=en-US\"\n",
    "    url=urlopen(url_string)\n",
    "    content = url.read()\n",
    "    data=json.loads(content)\n",
    "    if 'status_code' in data:\n",
    "        pass\n",
    "    else:\n",
    "        line=u\"\"\n",
    "        line=line+u\"\\t\"+str(data['poster_path']).decode('utf8') ## poster path\n",
    "        ## genres\n",
    "        genres_string=\"\"\n",
    "        for g in data['genres']:\n",
    "            genres_string=genres_string+\",\"+g['name']\n",
    "        line=line+u\",\"+genres_string\n",
    "        return line\n",
    "    \n",
    "get_movie(278)"
   ]
  },
  {
   "cell_type": "markdown",
   "metadata": {},
   "source": [
    "![](https://image.tmdb.org/t/p/w185/9O7gLzmreU0nGkIB6K3BsJbzvNv.jpg)"
   ]
  },
  {
   "cell_type": "markdown",
   "metadata": {},
   "source": [
    "We compare this against the movie's genre listings on IMDb. In this case, they are exactly the same (although they may not necessarily be for other movies).\n",
    "- Genre tags of \"The Shawshank Redemption\" in TMDb: Drama, Crime\n",
    "- Genre tags of \"The Shawshank Redemption\" in IMDb: Drama, Crime"
   ]
  },
  {
   "cell_type": "markdown",
   "metadata": {},
   "source": [
    "---"
   ]
  },
  {
   "cell_type": "markdown",
   "metadata": {},
   "source": [
    "## Top 10 Movies of 2016"
   ]
  },
  {
   "cell_type": "code",
   "execution_count": 11,
   "metadata": {
    "collapsed": false
   },
   "outputs": [
    {
     "data": {
      "text/plain": [
       "{12: u'Adventure',\n",
       " 14: u'Fantasy',\n",
       " 16: u'Animation',\n",
       " 18: u'Drama',\n",
       " 27: u'Horror',\n",
       " 28: u'Action',\n",
       " 35: u'Comedy',\n",
       " 36: u'History',\n",
       " 37: u'Western',\n",
       " 53: u'Thriller',\n",
       " 80: u'Crime',\n",
       " 99: u'Documentary',\n",
       " 878: u'Science Fiction',\n",
       " 9648: u'Mystery',\n",
       " 10402: u'Music',\n",
       " 10749: u'Romance',\n",
       " 10751: u'Family',\n",
       " 10752: u'War',\n",
       " 10770: u'TV Movie'}"
      ]
     },
     "execution_count": 11,
     "metadata": {},
     "output_type": "execute_result"
    }
   ],
   "source": [
    "url = urlopen(\"https://api.themoviedb.org/3/genre/movie/list?api_key=1cc37144dc84322526d9b17191ff00bb&language=en-US\")\n",
    "content = url.read()\n",
    "data = json.loads(content)\n",
    "\n",
    "genre_dict={}\n",
    "for x in data['genres']:\n",
    "    genre_dict[x['id']]=x['name']\n",
    "\n",
    "genre_dict"
   ]
  },
  {
   "cell_type": "markdown",
   "metadata": {},
   "source": [
    "We see that TMDb uses a total of 19 categories for their genre classification, as listed above. Now, we retrieve a list of the top 10 most popular movies in 2016 and their genres from TMDb, as shown below."
   ]
  },
  {
   "cell_type": "code",
   "execution_count": 12,
   "metadata": {
    "collapsed": false
   },
   "outputs": [
    {
     "data": {
      "text/plain": [
       "{'Arrival': ['Drama', 'Science Fiction'],\n",
       " 'Captain America: Civil War': ['Action', 'Science Fiction'],\n",
       " 'Deadpool': ['Action', 'Adventure', 'Comedy', 'Romance'],\n",
       " 'Doctor Strange': ['Action', 'Adventure', 'Fantasy', 'Science Fiction'],\n",
       " 'Fantastic Beasts and Where to Find Them': ['Adventure', 'Action', 'Fantasy'],\n",
       " 'Finding Dory': ['Adventure', 'Animation', 'Comedy', 'Family'],\n",
       " 'Rogue One: A Star Wars Story': ['Action', 'Drama', 'Science Fiction', 'War'],\n",
       " 'Sing': ['Animation', 'Comedy', 'Drama', 'Family', 'Music'],\n",
       " 'Underworld: Blood Wars': ['Action', 'Horror'],\n",
       " 'Zootopia': ['Animation', 'Adventure', 'Family', 'Comedy']}"
      ]
     },
     "execution_count": 12,
     "metadata": {},
     "output_type": "execute_result"
    }
   ],
   "source": [
    "url = urlopen(\"https://api.themoviedb.org/3/discover/movie?api_key=1cc37144dc84322526d9b17191ff00bb&language=en-US&sort_by=popularity.desc&include_adult=false&include_video=false&page=1&primary_release_year=2016\")\n",
    "content = url.read()\n",
    "data = json.loads(content)\n",
    "\n",
    "movie_dict={}\n",
    "count=0\n",
    "for x in data['results']:\n",
    "    count+=1\n",
    "    genre_ids=x['genre_ids']\n",
    "    genre_list=[]\n",
    "    for i in genre_ids:\n",
    "        genre_list.append(str(genre_dict[i]))\n",
    "    movie_dict[str(x['title'])]=genre_list\n",
    "    if count>=10:\n",
    "        break\n",
    "        \n",
    "movie_dict"
   ]
  },
  {
   "cell_type": "markdown",
   "metadata": {},
   "source": [
    "---"
   ]
  },
  {
   "cell_type": "markdown",
   "metadata": {},
   "source": [
    "## Data Scraping"
   ]
  },
  {
   "cell_type": "markdown",
   "metadata": {},
   "source": [
    "We used the TMDb API to extract information on movies from `tmdb_id` of 1 to 10000. Half of the `tmdb_id`'s were empty, returning about 5000 records.\n",
    "\n",
    "We note that the `tmdb_id`'s run up to about 600000. Given that the TMDb API only allows 40 queries every 10 seconds, we estimate it will take us about 42 hours to scrape the entire database. \n",
    "\n",
    "Therefore, for the purposes of this milestone and EDA, we will simply use this limited sample of 5000 records, in view of time constraints. We checked the release years of these movies and they do represent a good mix of old and recent movies. Moving forward, we will scrape the full database of movies to prepare our training data in Milestone 2."
   ]
  },
  {
   "cell_type": "code",
   "execution_count": 13,
   "metadata": {
    "collapsed": true
   },
   "outputs": [],
   "source": [
    "class RepeatedTimer(object):\n",
    "    def __init__(self, interval, function, *args, **kwargs):\n",
    "        self._timer     = None\n",
    "        self.interval   = interval\n",
    "        self.function   = function\n",
    "        self.args       = args\n",
    "        self.kwargs     = kwargs\n",
    "        self.is_running = False\n",
    "        self.start()\n",
    "\n",
    "    def _run(self):\n",
    "        self.is_running = False\n",
    "        self.start()\n",
    "        self.function(*self.args, **self.kwargs)\n",
    "\n",
    "    def start(self):\n",
    "        if not self.is_running:\n",
    "            self._timer = Timer(self.interval, self._run)\n",
    "            self._timer.start()\n",
    "            self.is_running = True\n",
    "\n",
    "    def stop(self):\n",
    "        self._timer.cancel()\n",
    "        self.is_running = False"
   ]
  },
  {
   "cell_type": "code",
   "execution_count": null,
   "metadata": {
    "collapsed": true
   },
   "outputs": [],
   "source": [
    "target = io.open(\"G:/data/raw/information/tmdb_movie_info.txt\", 'w',encoding=\"utf8\")\n",
    "line=u\"tmdb_id\\timdb_id\\ttitle\\tplot\\tposter_path\\trelease_date\\tbudget\\trevenue\\truntime\\tpopularity\\tuser_rating\\tproduction_company\\tgenres\"\n",
    "target.write(line+'\\n')\n",
    "for i in range(250):\n",
    "    startTime = time()\n",
    "    movie_ids=np.arange(40*i+1,40*(i+1)+1)\n",
    "    for movie_id in movie_ids:\n",
    "        url_string=\"https://api.themoviedb.org/3/movie/\"+str(movie_id)+\"?api_key=1cc37144dc84322526d9b17191ff00bb&language=en-US\"\n",
    "        url=urlopen(url_string)\n",
    "        content = url.read()\n",
    "        data=json.loads(content)\n",
    "        if 'status_code' in data:\n",
    "            pass\n",
    "        else:\n",
    "            line=u\"\"\n",
    "            line=line+str(data['id']).decode('utf8') #tmdb_id\n",
    "            line=line+u\"\\t\"+data['imdb_id'].replace(\"t\",\"\") #imdb_id\n",
    "            line=line+u\"\\t\"+data['title'] ## title\n",
    "            line=line+u\"\\t\"+data['overview'] ##plot\n",
    "            line=line+u\"\\t\"+str(data['poster_path']).decode('utf8') ## poster path\n",
    "            line=line+u\"\\t\"+data['release_date'] ## release date\n",
    "            line=line+u\"\\t\"+str(data['budget']).decode('utf8') ## budget\n",
    "            line=line+u\"\\t\"+str(data['revenue']).decode('utf8') ##revenue\n",
    "            line=line+u\"\\t\"+str(data['runtime']).decode('utf8') ##runtime\n",
    "            line=line+u\"\\t\"+str(data['popularity']).decode('utf8')##tmdb popularity\n",
    "            line=line+u\"\\t\"+str(data['vote_average']).decode('utf8') ## user rating\n",
    "            ## production company\n",
    "            company_string=\"\"\n",
    "            for c in data['production_companies']:\n",
    "                company_string=company_string+\",\"+c['name']\n",
    "            line=line+u\"\\t\"+company_string\n",
    "\n",
    "            ## genres\n",
    "            genres_string=\"\"\n",
    "            for g in data['genres']:\n",
    "                genres_string=genres_string+\",\"+g['name']\n",
    "            line=line+u\"\\t\"+genres_string\n",
    "            target.write(line+'\\n')\n",
    "    endTime = time()-startTime\n",
    "    target.flush()\n",
    "    print i,endTime\n",
    "    if endTime<10.0:\n",
    "        sleep(10.0-endTime)\n",
    "    else:\n",
    "        continue\n",
    "\n",
    "target.close()"
   ]
  },
  {
   "cell_type": "markdown",
   "metadata": {},
   "source": [
    "You can view the raw data file we gathered on our GitHub repository here."
   ]
  },
  {
   "cell_type": "markdown",
   "metadata": {},
   "source": [
    "---"
   ]
  },
  {
   "cell_type": "markdown",
   "metadata": {},
   "source": [
    "## Heatmap of Genre Correlation"
   ]
  },
  {
   "cell_type": "markdown",
   "metadata": {},
   "source": [
    "In this section, we want to generate a heatmap of the movie genre pairs, to see which genres tend to go together. We pre-processed the data we scraped earlier into a csv file, with columns of binary flags for the 19 TMDb genres, and about 5000 rows of movies."
   ]
  },
  {
   "cell_type": "code",
   "execution_count": 6,
   "metadata": {
    "collapsed": false
   },
   "outputs": [
    {
     "data": {
      "text/html": [
       "<div>\n",
       "<table border=\"1\" class=\"dataframe\">\n",
       "  <thead>\n",
       "    <tr style=\"text-align: right;\">\n",
       "      <th></th>\n",
       "      <th>tmdb_id</th>\n",
       "      <th>Adventure</th>\n",
       "      <th>Fantasy</th>\n",
       "      <th>Animation</th>\n",
       "      <th>Drama</th>\n",
       "      <th>Horror</th>\n",
       "      <th>Action</th>\n",
       "      <th>Comedy</th>\n",
       "      <th>History</th>\n",
       "      <th>Western</th>\n",
       "      <th>...</th>\n",
       "      <th>Crime</th>\n",
       "      <th>Documentary</th>\n",
       "      <th>Science Fiction</th>\n",
       "      <th>Mystery</th>\n",
       "      <th>Music</th>\n",
       "      <th>Romance</th>\n",
       "      <th>Family</th>\n",
       "      <th>War</th>\n",
       "      <th>TVMovie</th>\n",
       "      <th>Foreign</th>\n",
       "    </tr>\n",
       "  </thead>\n",
       "  <tbody>\n",
       "    <tr>\n",
       "      <th>0</th>\n",
       "      <td>616</td>\n",
       "      <td>0</td>\n",
       "      <td>0</td>\n",
       "      <td>0</td>\n",
       "      <td>1</td>\n",
       "      <td>0</td>\n",
       "      <td>0</td>\n",
       "      <td>0</td>\n",
       "      <td>0</td>\n",
       "      <td>0</td>\n",
       "      <td>...</td>\n",
       "      <td>1</td>\n",
       "      <td>0</td>\n",
       "      <td>0</td>\n",
       "      <td>0</td>\n",
       "      <td>0</td>\n",
       "      <td>0</td>\n",
       "      <td>0</td>\n",
       "      <td>0</td>\n",
       "      <td>0</td>\n",
       "      <td>0</td>\n",
       "    </tr>\n",
       "    <tr>\n",
       "      <th>1</th>\n",
       "      <td>1302</td>\n",
       "      <td>0</td>\n",
       "      <td>0</td>\n",
       "      <td>0</td>\n",
       "      <td>1</td>\n",
       "      <td>0</td>\n",
       "      <td>0</td>\n",
       "      <td>1</td>\n",
       "      <td>0</td>\n",
       "      <td>0</td>\n",
       "      <td>...</td>\n",
       "      <td>0</td>\n",
       "      <td>0</td>\n",
       "      <td>0</td>\n",
       "      <td>0</td>\n",
       "      <td>0</td>\n",
       "      <td>0</td>\n",
       "      <td>0</td>\n",
       "      <td>0</td>\n",
       "      <td>0</td>\n",
       "      <td>0</td>\n",
       "    </tr>\n",
       "    <tr>\n",
       "      <th>2</th>\n",
       "      <td>2364</td>\n",
       "      <td>0</td>\n",
       "      <td>0</td>\n",
       "      <td>0</td>\n",
       "      <td>0</td>\n",
       "      <td>0</td>\n",
       "      <td>0</td>\n",
       "      <td>1</td>\n",
       "      <td>0</td>\n",
       "      <td>0</td>\n",
       "      <td>...</td>\n",
       "      <td>0</td>\n",
       "      <td>0</td>\n",
       "      <td>0</td>\n",
       "      <td>0</td>\n",
       "      <td>0</td>\n",
       "      <td>0</td>\n",
       "      <td>0</td>\n",
       "      <td>0</td>\n",
       "      <td>0</td>\n",
       "      <td>0</td>\n",
       "    </tr>\n",
       "    <tr>\n",
       "      <th>3</th>\n",
       "      <td>2940</td>\n",
       "      <td>0</td>\n",
       "      <td>0</td>\n",
       "      <td>0</td>\n",
       "      <td>0</td>\n",
       "      <td>0</td>\n",
       "      <td>1</td>\n",
       "      <td>0</td>\n",
       "      <td>0</td>\n",
       "      <td>0</td>\n",
       "      <td>...</td>\n",
       "      <td>1</td>\n",
       "      <td>0</td>\n",
       "      <td>0</td>\n",
       "      <td>0</td>\n",
       "      <td>0</td>\n",
       "      <td>0</td>\n",
       "      <td>0</td>\n",
       "      <td>0</td>\n",
       "      <td>0</td>\n",
       "      <td>0</td>\n",
       "    </tr>\n",
       "    <tr>\n",
       "      <th>4</th>\n",
       "      <td>3657</td>\n",
       "      <td>0</td>\n",
       "      <td>0</td>\n",
       "      <td>0</td>\n",
       "      <td>0</td>\n",
       "      <td>0</td>\n",
       "      <td>0</td>\n",
       "      <td>0</td>\n",
       "      <td>0</td>\n",
       "      <td>0</td>\n",
       "      <td>...</td>\n",
       "      <td>0</td>\n",
       "      <td>1</td>\n",
       "      <td>0</td>\n",
       "      <td>0</td>\n",
       "      <td>0</td>\n",
       "      <td>0</td>\n",
       "      <td>0</td>\n",
       "      <td>0</td>\n",
       "      <td>0</td>\n",
       "      <td>0</td>\n",
       "    </tr>\n",
       "  </tbody>\n",
       "</table>\n",
       "<p>5 rows × 21 columns</p>\n",
       "</div>"
      ],
      "text/plain": [
       "   tmdb_id  Adventure  Fantasy  Animation  Drama  Horror  Action  Comedy  \\\n",
       "0      616          0        0          0      1       0       0       0   \n",
       "1     1302          0        0          0      1       0       0       1   \n",
       "2     2364          0        0          0      0       0       0       1   \n",
       "3     2940          0        0          0      0       0       1       0   \n",
       "4     3657          0        0          0      0       0       0       0   \n",
       "\n",
       "   History  Western   ...     Crime  Documentary  Science Fiction  Mystery  \\\n",
       "0        0        0   ...         1            0                0        0   \n",
       "1        0        0   ...         0            0                0        0   \n",
       "2        0        0   ...         0            0                0        0   \n",
       "3        0        0   ...         1            0                0        0   \n",
       "4        0        0   ...         0            1                0        0   \n",
       "\n",
       "   Music  Romance  Family  War  TVMovie  Foreign  \n",
       "0      0        0       0    0        0        0  \n",
       "1      0        0       0    0        0        0  \n",
       "2      0        0       0    0        0        0  \n",
       "3      0        0       0    0        0        0  \n",
       "4      0        0       0    0        0        0  \n",
       "\n",
       "[5 rows x 21 columns]"
      ]
     },
     "execution_count": 6,
     "metadata": {},
     "output_type": "execute_result"
    }
   ],
   "source": [
    "# load csv file\n",
    "genres = pd.read_csv('genres_10k_new.txt')\n",
    "\n",
    "# view first few rows\n",
    "genres.head()"
   ]
  },
  {
   "cell_type": "code",
   "execution_count": 7,
   "metadata": {
    "collapsed": true
   },
   "outputs": [],
   "source": [
    "# drop \"tmdb_id\" column\n",
    "genres = genres.drop('tmdb_id', axis=1)\n",
    "\n",
    "# generate correlation matrix\n",
    "corrmat = genres.corr()"
   ]
  },
  {
   "cell_type": "code",
<<<<<<< Updated upstream
   "execution_count": 5,
=======
   "execution_count": 8,
>>>>>>> Stashed changes
   "metadata": {
    "collapsed": false
   },
   "outputs": [
    {
     "data": {
      "image/png": "iVBORw0KGgoAAAANSUhEUgAAAt0AAAI4CAYAAAC2vlXDAAAABHNCSVQICAgIfAhkiAAAAAlwSFlz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\n",
      "text/plain": [
<<<<<<< Updated upstream
       "<matplotlib.figure.Figure at 0xbf47f60>"
=======
       "<matplotlib.figure.Figure at 0xbf29d68>"
>>>>>>> Stashed changes
      ]
     },
     "metadata": {},
     "output_type": "display_data"
    }
   ],
   "source": [
    "# set appropriate font and dpi\n",
    "sns.set(font_scale=1.2)\n",
    "sns.set_style({\"savefig.dpi\": 100})\n",
    "\n",
    "# plot heatmap\n",
    "ax = sns.heatmap(corrmat, linewidths=.1, vmin=-0.5, vmax=0.5)"
   ]
  },
  {
   "cell_type": "markdown",
   "metadata": {},
   "source": [
    "From the heatmap above, we see that the following pairs of genres tend to be strongly correlated: Action-Adventure, Animation-Family, Action-Thriller, History-War, Thriller-Crime and Thriller-Mystery. We might consider grouping these genres together in our model to reduce the number of outcome variable classes. \n",
    "\n",
    "In contrast, these pairs of genres are negatively correlated: Drama-Comedy, Drama-Science Fiction and Comedy-Thriller.\n",
    "\n",
    "We did not have any records tagged as \"TVMovie\". \n",
    "\n",
    "The genre \"Foreign\" may have been retired by TMDb as it no longer appears on their official documentation."
   ]
  },
  {
   "cell_type": "markdown",
   "metadata": {},
   "source": [
    "---"
   ]
  },
  {
   "cell_type": "markdown",
   "metadata": {},
   "source": [
    "## Potential Challenges & Questions"
   ]
  },
  {
   "cell_type": "markdown",
   "metadata": {},
   "source": [
    "We forsee several challenges on this project, and plan to address them, as follows:\n",
    "- TMDb and IMDb may have different genre tags for a particular movie. In addition, the lengths of their genre listings may differ. To deal with this issue, we may match the tags from both databases and only consider the intersection of the two sets. Alternatively, we may just use the genre tags from one database only. \n",
    "- There are too many genres, and some are closely related. We may collapse some of the genres together into one group. However, in analyzing the outcome variable, we still feel it is natural for most movies to have more than one genre, as it is difficult for a movie to fall neatly into one category. Therefore, we need a model that can handle multiple outcomes.\n",
    "- There is an overwhelming amount of metadata available for each movie, especially on IMDb. Scraping and cleaning all of it will take a very long time. Instead, we will selectively choose variables we want to include in our model (discussed below).\n"
   ]
  },
  {
   "cell_type": "markdown",
   "metadata": {},
   "source": [
    "We conducted a brainstorming session to think of features associated with movie genre, and based on our beliefs, we identified the following variables, which we will use in our model to supplement the posters:\n",
    "- Title\n",
    "- Plot summary / keywords\n",
    "- Producer\n",
    "- Director\n",
    "- Writer\n",
    "- Cast (top-billed n cast, listed by importance)\n",
    "- Production company\n",
    "- Release date\n",
    "- Runtime\n",
    "- Country of origin / language\n",
    "- Budget\n",
    "- Revenue\n",
    "- Picture rating (eg. PG-13, R-21) (known as \"certificates\" on IMDb)\n",
    "- Average user rating\n",
    "- Whether the movie is a sequel or not"
   ]
  },
  {
   "cell_type": "markdown",
   "metadata": {},
   "source": [
    "Questions we have are:\n",
    "- How will we analyze textual information, such as titles and plot summaries?\n",
    "- If we train 2 separate models, one using movie posters and the other using movie metadata, how do we combine their predictions, and how much weight should be given to each model? "
   ]
  },
  {
   "cell_type": "markdown",
   "metadata": {},
   "source": [
    "---"
   ]
  },
  {
   "cell_type": "markdown",
   "metadata": {},
   "source": [
    "## Exploratory Data Analysis"
   ]
  },
  {
   "cell_type": "markdown",
   "metadata": {},
   "source": [
    "In this section, we do a preliminary exploration of the data we have, looking for variables that are potential predictors of movie genre, and visualizing how they are associated with genre.\n",
    "\n",
    "(Tim to fill this section with visualisations)\n",
    "\n",
    "Other EDA questions we would like to explore include:\n",
    "- Is length of movie title correlated with genre?\n",
    "- etc."
   ]
  },
  {
   "cell_type": "markdown",
   "metadata": {},
   "source": [
    "---"
   ]
  },
  {
   "cell_type": "markdown",
   "metadata": {},
   "source": [
    "## Next Steps"
   ]
  },
  {
   "cell_type": "markdown",
   "metadata": {
    "collapsed": true
   },
   "source": [
    "Moving onwards, we will complete the full wrangling and cleaning of data from TMDb and IMDb, including the posters. We intend to extract all movies in the TMDb database, then drop records that have missing poster paths and `imdb_id`'s. Then, we will extract the additional metadata we want for these movies from IMDb and match them to TMDb records based on `imdb_id`. We will decide how we want to regroup the genres and the exact forms of X's and Y's for the training and testing datasets."
   ]
  },
  {
   "cell_type": "markdown",
   "metadata": {},
   "source": [
    "---"
   ]
  }
 ],
 "metadata": {
  "anaconda-cloud": {},
  "kernelspec": {
   "display_name": "Python [Root]",
   "language": "python",
   "name": "Python [Root]"
  },
  "language_info": {
   "codemirror_mode": {
    "name": "ipython",
    "version": 2
   },
   "file_extension": ".py",
   "mimetype": "text/x-python",
   "name": "python",
   "nbconvert_exporter": "python",
   "pygments_lexer": "ipython2",
   "version": "2.7.12"
  }
 },
 "nbformat": 4,
 "nbformat_minor": 0
}
