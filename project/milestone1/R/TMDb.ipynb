{
 "cells": [
  {
   "cell_type": "code",
   "execution_count": 2,
   "metadata": {
    "collapsed": false
   },
   "outputs": [],
   "source": [
    "import json\n",
    "import numpy as np\n",
    "import matplotlib\n",
    "import matplotlib.pyplot as plt\n",
    "import random\n",
    "from mpl_toolkits.mplot3d import Axes3D\n",
    "from bs4 import BeautifulSoup\n",
    "import urllib\n",
    "from urllib import urlopen\n",
    "import threading\n",
    "from threading import Timer\n",
    "from time import time, sleep\n",
    "import io\n",
    "%matplotlib inline"
   ]
  },
  {
   "cell_type": "code",
   "execution_count": 13,
   "metadata": {
    "collapsed": false
   },
   "outputs": [],
   "source": [
    "url = urlopen(\"https://api.themoviedb.org/3/genre/movie/list?api_key=1cc37144dc84322526d9b17191ff00bb&language=en-US\")\n",
    "content = url.read()\n",
    "data=json.loads(content)\n"
   ]
  },
  {
   "cell_type": "code",
   "execution_count": 20,
   "metadata": {
    "collapsed": false
   },
   "outputs": [],
   "source": [
    "genre_dict={}\n",
    "for x in data['genres']:\n",
    "    genre_dict[x['id']]=x['name']"
   ]
  },
  {
   "cell_type": "code",
   "execution_count": 21,
   "metadata": {
    "collapsed": false
   },
   "outputs": [
    {
     "data": {
      "text/plain": [
       "{12: u'Adventure',\n",
       " 14: u'Fantasy',\n",
       " 16: u'Animation',\n",
       " 18: u'Drama',\n",
       " 27: u'Horror',\n",
       " 28: u'Action',\n",
       " 35: u'Comedy',\n",
       " 36: u'History',\n",
       " 37: u'Western',\n",
       " 53: u'Thriller',\n",
       " 80: u'Crime',\n",
       " 99: u'Documentary',\n",
       " 878: u'Science Fiction',\n",
       " 9648: u'Mystery',\n",
       " 10402: u'Music',\n",
       " 10749: u'Romance',\n",
       " 10751: u'Family',\n",
       " 10752: u'War',\n",
       " 10770: u'TV Movie'}"
      ]
     },
     "execution_count": 21,
     "metadata": {},
     "output_type": "execute_result"
    }
   ],
   "source": [
    "genre_dict"
   ]
  },
  {
   "cell_type": "code",
   "execution_count": 28,
   "metadata": {
    "collapsed": false
   },
   "outputs": [],
   "source": [
    "url=urlopen(\"https://api.themoviedb.org/3/discover/movie?api_key=1cc37144dc84322526d9b17191ff00bb&language=en-US&sort_by=popularity.desc&include_adult=false&include_video=false&page=1&primary_release_year=2016\")\n",
    "content = url.read()\n",
    "data=json.loads(content)"
   ]
  },
  {
   "cell_type": "code",
   "execution_count": 31,
   "metadata": {
    "collapsed": false
   },
   "outputs": [],
   "source": [
    "movie_dict={}\n",
    "count=0\n",
    "for x in data['results']:\n",
    "    count+=1\n",
    "    genre_ids=x['genre_ids']\n",
    "    genre_list=[]\n",
    "    for i in genre_ids:\n",
    "        genre_list.append(str(genre_dict[i]))\n",
    "    movie_dict[str(x['title'])]=genre_list\n",
    "    if count>=10:\n",
    "        break"
   ]
  },
  {
   "cell_type": "code",
   "execution_count": 32,
   "metadata": {
    "collapsed": false
   },
   "outputs": [
    {
     "data": {
      "text/plain": [
       "{'Arrival': ['Drama', 'Science Fiction'],\n",
       " 'Captain America: Civil War': ['Action', 'Science Fiction'],\n",
       " 'Deadpool': ['Action', 'Adventure', 'Comedy', 'Romance'],\n",
       " 'Doctor Strange': ['Action', 'Adventure', 'Fantasy', 'Science Fiction'],\n",
       " 'Fantastic Beasts and Where to Find Them': ['Adventure', 'Action', 'Fantasy'],\n",
       " 'Finding Dory': ['Adventure', 'Animation', 'Comedy', 'Family'],\n",
       " 'Rogue One: A Star Wars Story': ['Action', 'Drama', 'Science Fiction', 'War'],\n",
       " 'Sing': ['Animation', 'Comedy', 'Drama', 'Family', 'Music'],\n",
       " 'Underworld: Blood Wars': ['Action', 'Horror'],\n",
       " 'Zootopia': ['Animation', 'Adventure', 'Family', 'Comedy']}"
      ]
     },
     "execution_count": 32,
     "metadata": {},
     "output_type": "execute_result"
    }
   ],
   "source": [
    "movie_dict"
   ]
  },
  {
   "cell_type": "code",
   "execution_count": 37,
   "metadata": {
    "collapsed": false
   },
   "outputs": [
    {
     "name": "stdout",
     "output_type": "stream",
     "text": [
      "Hello, World!\n",
      "Hello, World!\n",
      "Hello, World!\n"
     ]
    }
   ],
   "source": [
    "class RepeatedTimer(object):\n",
    "    def __init__(self, interval, function, *args, **kwargs):\n",
    "        self._timer     = None\n",
    "        self.interval   = interval\n",
    "        self.function   = function\n",
    "        self.args       = args\n",
    "        self.kwargs     = kwargs\n",
    "        self.is_running = False\n",
    "        self.start()\n",
    "\n",
    "    def _run(self):\n",
    "        self.is_running = False\n",
    "        self.start()\n",
    "        self.function(*self.args, **self.kwargs)\n",
    "\n",
    "    def start(self):\n",
    "        if not self.is_running:\n",
    "            self._timer = Timer(self.interval, self._run)\n",
    "            self._timer.start()\n",
    "            self.is_running = True\n",
    "\n",
    "    def stop(self):\n",
    "        self._timer.cancel()\n",
    "        self.is_running = False"
   ]
  },
  {
   "cell_type": "code",
   "execution_count": 39,
   "metadata": {
    "collapsed": false
   },
   "outputs": [
    {
     "name": "stdout",
     "output_type": "stream",
     "text": [
      "starting...\n",
      "Hello World!\n",
      "Hello World!\n",
      "Hello World!\n",
      "Hello World!\n",
      "Hello, World!\n",
      "Hello, World!\n",
      "Hello, World!\n",
      "Hello, World!\n"
     ]
    }
   ],
   "source": [
    "from time import sleep\n",
    "\n",
    "def hello(name):\n",
    "    print \"Hello %s!\" % name\n",
    "\n",
    "print \"starting...\"\n",
    "rt = RepeatedTimer(1, hello, \"World\") # it auto-starts, no need of rt.start()\n",
    "try:\n",
    "    sleep(5) # your long-running job goes here...\n",
    "finally:\n",
    "    rt.stop() # better in a try/finally block to make sure the program ends!"
   ]
  },
  {
   "cell_type": "markdown",
   "metadata": {},
   "source": [
    "## get TMDb data and write to file"
   ]
  },
  {
   "cell_type": "code",
   "execution_count": 3,
   "metadata": {
    "collapsed": false
   },
   "outputs": [],
   "source": [
    "def get_movie(movie_id):\n",
    "    url_string=\"https://api.themoviedb.org/3/movie/\"+str(movie_id)+\"?api_key=1cc37144dc84322526d9b17191ff00bb&language=en-US\"\n",
    "    url=urlopen(url_string)\n",
    "    content = url.read()\n",
    "    data=json.loads(content)\n",
    "    if 'status_code' in data:\n",
    "        pass\n",
    "    else:\n",
    "        line=u\"\"\n",
    "        line=line+str(data['id']).decode('utf8') #tmdb_id\n",
    "        line=line+u\"\\t\"+data['imdb_id'].replace(\"t\",\"\") #imdb_id\n",
    "        line=line+u\"\\t\"+data['title'] ## title\n",
    "        line=line+u\"\\t\"+data['overview'] ##plot\n",
    "        line=line+u\"\\t\"+str(data['poster_path']).decode('utf8') ## poster path\n",
    "        line=line+u\"\\t\"+data['release_date'] ## release date\n",
    "        line=line+u\"\\t\"+str(data['budget']).decode('utf8') ## budget\n",
    "        line=line+u\"\\t\"+str(data['revenue']).decode('utf8') ##revenue\n",
    "        line=line+u\"\\t\"+str(data['runtime']).decode('utf8') ##runtime\n",
    "        line=line+u\"\\t\"+str(data['popularity']).decode('utf8')##tmdb popularity\n",
    "        line=line+u\"\\t\"+str(data['vote_average']).decode('utf8') ## user rating\n",
    "        ## production company\n",
    "        company_string=\"\"\n",
    "        for c in data['production_companies']:\n",
    "            company_string=company_string+\",\"+c['name']\n",
    "        line=line+u\"\\t\"+company_string\n",
    "\n",
    "        ## genres\n",
    "        genres_string=\"\"\n",
    "        for g in data['genres']:\n",
    "            genres_string=genres_string+\",\"+g['name']\n",
    "        line=line+u\",\"+genres_string\n",
    "        return line\n"
   ]
  },
  {
   "cell_type": "code",
   "execution_count": 4,
   "metadata": {
    "collapsed": false
   },
   "outputs": [
    {
     "data": {
      "text/plain": [
       "u'278\\t0111161\\tThe Shawshank Redemption\\tFramed in the 1940s for the double murder of his wife and her lover, upstanding banker Andy Dufresne begins a new life at the Shawshank prison, where he puts his accounting skills to work for an amoral warden. During his long stretch in prison, Dufresne comes to be admired by the other inmates -- including an older prisoner named Red -- for his integrity and unquenchable sense of hope.\\t/9O7gLzmreU0nGkIB6K3BsJbzvNv.jpg\\t1994-09-23\\t25000000\\t28341469\\t142\\t9.515424\\t8.4\\t,Castle Rock Entertainment,,Drama,Crime'"
      ]
     },
     "execution_count": 4,
     "metadata": {},
     "output_type": "execute_result"
    }
   ],
   "source": [
    "get_movie(278)"
   ]
  },
  {
   "cell_type": "code",
   "execution_count": 7,
   "metadata": {
    "collapsed": false
   },
   "outputs": [
    {
     "name": "stdout",
     "output_type": "stream",
     "text": [
      "0 7.35199999809\n",
      "1 8.40200018883\n",
      "2 9.53299999237\n",
      "3 12.1899998188\n",
      "4 10.1150000095\n",
      "5 6.98199987411\n",
      "6 6.58800005913\n",
      "7 7.12600016594\n",
      "8 6.71399998665\n",
      "9 7.00500011444\n",
      "10 6.77799987793\n",
      "11 7.07699990273\n",
      "12 6.31900000572\n",
      "13 9.87199997902\n",
      "14 14.1449999809\n",
      "15 8.55200004578\n",
      "16 8.03800010681\n",
      "17 7.25199985504\n",
      "18 7.90499997139\n",
      "19 7.04799985886\n",
      "20 6.82500004768\n",
      "21 6.2380001545\n",
      "22 7.0490000248\n",
      "23 7.95600008965\n",
      "24 6.65699982643\n",
      "25 7.85600018501\n",
      "26 6.62000012398\n",
      "27 7.29999995232\n",
      "28 6.56999993324\n",
      "29 5.83599996567\n",
      "30 6.20799994469\n",
      "31 6.3599998951\n",
      "32 7.62399983406\n",
      "33 8.47299981117\n",
      "34 7.02799987793\n",
      "35 10.3270001411\n",
      "36 8.39400005341\n",
      "37 7.27699995041\n",
      "38 7.33500003815\n",
      "39 6.65799999237\n",
      "40 6.63499999046\n",
      "41 6.47099995613\n",
      "42 9.12399983406\n",
      "43 8.4430000782\n",
      "44 6.6360001564\n",
      "45 6.63199996948\n",
      "46 7.4960000515\n",
      "47 6.87700009346\n",
      "48 7.28900003433\n",
      "49 7.28600001335\n",
      "50 7.45199990273\n",
      "51 8.31900000572\n",
      "52 8.15300011635\n",
      "53 6.61900019646\n",
      "54 6.97099995613\n",
      "55 7.15400004387\n",
      "56 7.26299977303\n",
      "57 6.91199994087\n",
      "58 7.48500013351\n",
      "59 7.09599995613\n",
      "60 6.64700007439\n",
      "61 5.75900006294\n",
      "62 7.13900017738\n",
      "63 6.3599998951\n",
      "64 7.0609998703\n",
      "65 5.88599991798\n",
      "66 7.05200004578\n",
      "67 6.43700003624\n",
      "68 6.91199994087\n",
      "69 6.5569999218\n",
      "70 6.35099983215\n",
      "71 6.43899989128\n",
      "72 6.5529999733\n",
      "73 5.81699991226\n",
      "74 6.29100012779\n",
      "75 6.06399989128\n",
      "76 6.76099991798\n",
      "77 6.34299993515\n",
      "78 6.59800004959\n",
      "79 6.16799998283\n",
      "80 6.56500005722\n",
      "81 6.08600020409\n",
      "82 6.28799986839\n",
      "83 6.92399978638\n",
      "84 5.92599987984\n",
      "85 6.61599993706\n",
      "86 6.40899991989\n",
      "87 7.13499999046\n",
      "88 6.38300013542\n",
      "89 6.77399992943\n",
      "90 6.82399988174\n",
      "91 5.98900008202\n",
      "92 7.34200000763\n",
      "93 6.37000012398\n",
      "94 6.5150001049\n",
      "95 6.06999993324\n",
      "96 6.78299999237\n",
      "97 6.69499993324\n",
      "98 6.84200000763\n",
      "99 7.11199998856\n",
      "100 6.0680000782\n",
      "101 6.29299998283\n",
      "102 5.99300003052\n",
      "103 5.95599985123\n",
      "104 7.742000103\n",
      "105 6.14499998093\n",
      "106 6.34699988365\n",
      "107 6.36500000954\n",
      "108 6.02199983597\n",
      "109 6.32699990273\n",
      "110 5.91499996185\n",
      "111 5.99300003052\n",
      "112 5.9509999752\n",
      "113 5.97899985313\n",
      "114 6.40199995041\n",
      "115 5.91700005531\n",
      "116 6.13800001144\n",
      "117 7.04100012779\n",
      "118 6.8180000782\n",
      "119 6.43899989128\n",
      "120 6.01900005341\n",
      "121 6.22799992561\n",
      "122 6.78799986839\n",
      "123 6.44400000572\n",
      "124 6.86400008202\n",
      "125 6.18299984932\n",
      "126 6.4319999218\n",
      "127 6.38700008392\n",
      "128 6.20199990273\n",
      "129 6.5039999485\n",
      "130 6.5680000782\n",
      "131 5.97300004959\n",
      "132 5.6740000248\n",
      "133 6.28799986839\n",
      "134 6.86400008202\n",
      "135 6.46099996567\n",
      "136 6.78900003433\n",
      "137 7.07399988174\n",
      "138 6.4470000267\n",
      "139 6.58599996567\n",
      "140 6.80400013924\n",
      "141 6.29299998283\n",
      "142 6.35199999809\n",
      "143 6.72099995613\n",
      "144 6.22599983215\n",
      "145 6.4279999733\n",
      "146 6.56399989128\n",
      "147 5.86199998856\n",
      "148 6.33099985123\n",
      "149 5.97000002861\n",
      "150 6.04800009727\n",
      "151 5.54099988937\n",
      "152 6.29400014877\n",
      "153 7.03199982643\n",
      "154 6.36199998856\n",
      "155 5.77999997139\n",
      "156 6.04200005531\n",
      "157 5.71099996567\n",
      "158 6.09200000763\n",
      "159 6.70499992371\n",
      "160 6.0720000267\n",
      "161 6.37200021744\n",
      "162 5.98099994659\n",
      "163 5.39800000191\n",
      "164 7.00499987602\n",
      "165 6.23100018501\n",
      "166 5.87800002098\n",
      "167 6.74800014496\n",
      "168 6.16700005531\n",
      "169 5.74699997902\n",
      "170 5.71899986267\n",
      "171 6.1970000267\n",
      "172 6.10500001907\n",
      "173 6.44099998474\n",
      "174 6.33299994469\n",
      "175 6.30599999428\n",
      "176 7.21300005913\n",
      "177 6.78399991989\n",
      "178 6.49699997902\n",
      "179 6.38199996948\n",
      "180 6.51600003242\n",
      "181 7.00699996948\n",
      "182 8.03999996185\n",
      "183 7.71000003815\n",
      "184 7.40999984741\n",
      "185 9.87399983406\n",
      "186 7.22200012207\n",
      "187 8.03499984741\n",
      "188 6.72200012207\n",
      "189 6.37299990654\n",
      "190 7.2009999752\n",
      "191 6.11000013351\n",
      "192 6.35199999809\n",
      "193 6.29100012779\n",
      "194 7.0720000267\n",
      "195 6.14300012589\n",
      "196 6.42999982834\n",
      "197 5.89899992943\n",
      "198 7.02300000191\n",
      "199 7.0119998455\n",
      "200 7.22100019455\n",
      "201 7.40100002289\n",
      "202 6.47099995613\n",
      "203 6.39599990845\n",
      "204 6.53900003433\n",
      "205 6.13300013542\n",
      "206 6.26900005341\n",
      "207 6.73699998856\n",
      "208 6.34799981117\n",
      "209 5.75499987602\n",
      "210 7.14899992943\n",
      "211 6.47300004959\n",
      "212 6.59100008011\n",
      "213 6.90000009537\n",
      "214 6.24300003052\n",
      "215 5.90799999237\n",
      "216 5.89800000191\n",
      "217 6.26899981499\n",
      "218 7.17600011826\n",
      "219 8.92000007629\n",
      "220 6.79100012779\n",
      "221 6.52499985695\n",
      "222 7.36599993706\n",
      "223 6.83699989319\n",
      "224 6.69600009918\n",
      "225 7.3100001812\n",
      "226 6.93000006676\n",
      "227 6.35399985313\n",
      "228 6.8140001297\n",
      "229 6.91600012779\n",
      "230 7.08299994469\n",
      "231 6.99499988556\n",
      "232 7.09099984169\n",
      "233 6.57500004768\n",
      "234 7.35199999809\n",
      "235 7.64100003242\n",
      "236 7.1890001297\n",
      "237 8.30400013924\n",
      "238 7.54100012779\n",
      "239 8.00600004196\n",
      "240 10.125\n",
      "241 6.43099999428\n",
      "242 7.70199990273\n",
      "243 6.87299990654\n",
      "244 6.96899986267\n",
      "245 7.95599985123\n",
      "246 7.5\n",
      "247 7.81900000572\n",
      "248 7.76300001144\n",
      "249 7.71700000763\n"
     ]
    }
   ],
   "source": [
    "target = io.open(\"G:/data/raw/information/tmdb_movie_info.txt\", 'w',encoding=\"utf8\")\n",
    "line=u\"tmdb_id\\timdb_id\\ttitle\\tplot\\tposter_path\\trelease_date\\tbudget\\trevenue\\truntime\\tpopularity\\tuser_rating\\tproduction_company\\tgenres\"\n",
    "target.write(line+'\\n')\n",
    "for i in range(250):\n",
    "    startTime = time()\n",
    "    movie_ids=np.arange(40*i+1,40*(i+1)+1)\n",
    "    for movie_id in movie_ids:\n",
    "        url_string=\"https://api.themoviedb.org/3/movie/\"+str(movie_id)+\"?api_key=1cc37144dc84322526d9b17191ff00bb&language=en-US\"\n",
    "        url=urlopen(url_string)\n",
    "        content = url.read()\n",
    "        data=json.loads(content)\n",
    "        if 'status_code' in data:\n",
    "            pass\n",
    "        else:\n",
    "            line=u\"\"\n",
    "            line=line+str(data['id']).decode('utf8') #tmdb_id\n",
    "            line=line+u\"\\t\"+data['imdb_id'].replace(\"t\",\"\") #imdb_id\n",
    "            line=line+u\"\\t\"+data['title'] ## title\n",
    "            line=line+u\"\\t\"+data['overview'] ##plot\n",
    "            line=line+u\"\\t\"+str(data['poster_path']).decode('utf8') ## poster path\n",
    "            line=line+u\"\\t\"+data['release_date'] ## release date\n",
    "            line=line+u\"\\t\"+str(data['budget']).decode('utf8') ## budget\n",
    "            line=line+u\"\\t\"+str(data['revenue']).decode('utf8') ##revenue\n",
    "            line=line+u\"\\t\"+str(data['runtime']).decode('utf8') ##runtime\n",
    "            line=line+u\"\\t\"+str(data['popularity']).decode('utf8')##tmdb popularity\n",
    "            line=line+u\"\\t\"+str(data['vote_average']).decode('utf8') ## user rating\n",
    "            ## production company\n",
    "            company_string=\"\"\n",
    "            for c in data['production_companies']:\n",
    "                company_string=company_string+\",\"+c['name']\n",
    "            line=line+u\"\\t\"+company_string\n",
    "\n",
    "            ## genres\n",
    "            genres_string=\"\"\n",
    "            for g in data['genres']:\n",
    "                genres_string=genres_string+\",\"+g['name']\n",
    "            line=line+u\"\\t\"+genres_string\n",
    "            target.write(line+'\\n')\n",
    "    endTime = time()-startTime\n",
    "    target.flush()\n",
    "    print i,endTime\n",
    "    if endTime<10.0:\n",
    "        sleep(10.0-endTime)\n",
    "    else:\n",
    "        continue\n",
    "\n",
    "target.close()"
   ]
  },
  {
   "cell_type": "code",
   "execution_count": 9,
   "metadata": {
    "collapsed": true
   },
   "outputs": [],
   "source": [
    "target.close()"
   ]
  },
  {
   "cell_type": "code",
   "execution_count": 86,
   "metadata": {
    "collapsed": false
   },
   "outputs": [
    {
     "data": {
      "text/plain": [
       "5.644999980926514"
      ]
     },
     "execution_count": 86,
     "metadata": {},
     "output_type": "execute_result"
    }
   ],
   "source": [
    "endTime"
   ]
  },
  {
   "cell_type": "code",
   "execution_count": 88,
   "metadata": {
    "collapsed": false
   },
   "outputs": [
    {
     "name": "stdout",
     "output_type": "stream",
     "text": [
      "a\n"
     ]
    },
    {
     "data": {
      "text/plain": [
       "0.0"
      ]
     },
     "execution_count": 88,
     "metadata": {},
     "output_type": "execute_result"
    }
   ],
   "source": []
  },
  {
   "cell_type": "code",
   "execution_count": null,
   "metadata": {
    "collapsed": true
   },
   "outputs": [],
   "source": []
  }
 ],
 "metadata": {
  "kernelspec": {
   "display_name": "Python [Root]",
   "language": "python",
   "name": "Python [Root]"
  },
  "language_info": {
   "codemirror_mode": {
    "name": "ipython",
    "version": 2
   },
   "file_extension": ".py",
   "mimetype": "text/x-python",
   "name": "python",
   "nbconvert_exporter": "python",
   "pygments_lexer": "ipython2",
   "version": "2.7.12"
  }
 },
 "nbformat": 4,
 "nbformat_minor": 2
}
